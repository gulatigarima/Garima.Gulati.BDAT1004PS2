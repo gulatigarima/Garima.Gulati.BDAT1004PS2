{
 "cells": [
  {
   "cell_type": "markdown",
   "id": "bce2f61d",
   "metadata": {},
   "source": [
    "# Question 1\n",
    "```\n",
    "Consider the following Python module:\n",
    "    a = 0 \n",
    "    def b():\n",
    "    global a\n",
    "    a = c(a)\n",
    "    def c(a):\n",
    "    return a + 2\n",
    "    After importing the module into the interpreter, you execute:\n",
    "    >>> b()\n",
    "    >>> b()\n",
    "    >>> b()\n",
    "    >>> a\n",
    "    ?\n",
    "What value is displayed when the last expression (a) is evaluated? Explain your answer by indicating what\n",
    "happens in every executed statement.\n",
    "```"
   ]
  },
  {
   "cell_type": "code",
   "execution_count": 17,
   "id": "3d9c5706",
   "metadata": {},
   "outputs": [
    {
     "data": {
      "text/plain": [
       "6"
      ]
     },
     "execution_count": 17,
     "metadata": {},
     "output_type": "execute_result"
    }
   ],
   "source": [
    "a = 0\n",
    "def b():\n",
    "    global a\n",
    "    a = c(a)\n",
    "def c(a):\n",
    "    return a+2\n",
    "\n",
    "b()\n",
    "b()\n",
    "b()\n",
    "a"
   ]
  },
  {
   "cell_type": "markdown",
   "id": "9060ab97",
   "metadata": {},
   "source": [
    "```\n",
    "Calling function b() for the first time:\n",
    "    a = 0\n",
    "    a =c(0)\n",
    "    c(a) will return 2\n",
    "    So, a = 2\n",
    "Calling function b() for the second time:\n",
    "    a =2\n",
    "    a = c(2)\n",
    "    c(2) will return 4\n",
    "    so, now a = 4\n",
    "Calling function b() for the third time:\n",
    "    a = 4\n",
    "    a = c(4)\n",
    "    c(4) will return 6\n",
    "\n",
    "So, a = 6\n",
    "\n",
    "```"
   ]
  },
  {
   "cell_type": "markdown",
   "id": "9c18eef3",
   "metadata": {},
   "source": [
    "# Question 2\n",
    "```\n",
    "Function fileLength(), given to you, takes the name of a file as input and returns \n",
    "the length of the file:\n",
    "    >>> fileLength('midterm.py') \n",
    "    284\n",
    "    \n",
    "    >>> fileLength('idterm.py') \n",
    "    Traceback (most recent call last):\n",
    "    File \"<pyshell#34>\", line 1, in <module> \n",
    "    fileLength('idterm.py')\n",
    "    File \"/Users/me/midterm.py\", line 3, in fileLength \n",
    "    infile = open(filename)\n",
    "    FileNotFoundError: [Errno 2] No such file or directory: \n",
    "    'idterm.py'\n",
    "    \n",
    "As shown above, if the file cannot be found by the interpreter or if it cannot be read \n",
    "as a text file, an exception will be raised. Modify function fileLength() so that a \n",
    "friendly message is printed instead:\n",
    "    >>> fileLength('midterm.py') \n",
    "    358\n",
    "    >>> fileLength('idterm.py') \n",
    "    File idterm.py not found\n",
    "```"
   ]
  },
  {
   "cell_type": "code",
   "execution_count": 1,
   "id": "b2aca51e",
   "metadata": {},
   "outputs": [
    {
     "name": "stdout",
     "output_type": "stream",
     "text": [
      "File idterm.py not found\n"
     ]
    }
   ],
   "source": [
    "def fileLength(filename):\n",
    "    try:\n",
    "        file = open(filename)\n",
    "        contents = file.read()\n",
    "        file.close()\n",
    "        print(len(contents))\n",
    "    except FileNotFoundError:\n",
    "        print('File ' + filename + ' not found')\n",
    "    except :\n",
    "        print('There is some issue with the file. Please check')\n",
    "        \n",
    "fileLength('idterm.py')"
   ]
  },
  {
   "cell_type": "markdown",
   "id": "aae95c14",
   "metadata": {},
   "source": [
    "# Question 3:\n",
    "```\n",
    "Write a class named Marsupial that can be used as shown below:\n",
    ">>> m = Marsupial()\n",
    ">>> m.put_in_pouch('doll')\n",
    ">>> m.put_in_pouch('firetruck')\n",
    ">>> m.put_in_pouch('kitten')\n",
    ">>> m.pouch_contents() \n",
    "['doll', 'firetruck', 'kitten']\n",
    "\n",
    "Now write a class named Kangaroo as a subclass of Marsupial that inherits all the \n",
    "attributes of Marsupial and also:\n",
    "a. extends the Marsupial __init__ constructor to take, as input, the\n",
    "coordinates x and y of the Kangaroo object,\n",
    "b. supports method jump that takes number values dx and dy as input and \n",
    "movesthe kangaroo by dx units along the x-axis and by dy units along the y\u0002axis, and\n",
    "c. overloads the __str__ operator so it behaves as shown below.\n",
    ">>> k = Kangaroo(0,0)\n",
    ">>> print(k)\n",
    "I am a Kangaroo located at coordinates (0,0)\n",
    ">>> k.put_in_pouch('doll')\n",
    ">>> k.put_in_pouch('firetruck')\n",
    ">>> k.put_in_pouch('kitten')\n",
    ">>> k.pouch_contents() \n",
    "['doll', 'firetruck', 'kitten']\n",
    ">>> k.jump(1,0)\n",
    ">>> k.jump(1,0)\n",
    ">>> k.jump(1,0)\n",
    ">>> print(k)\n",
    "I am a Kangaroo located at coordinates (3,0)\n",
    "```"
   ]
  },
  {
   "cell_type": "code",
   "execution_count": 3,
   "id": "0bd96796",
   "metadata": {},
   "outputs": [],
   "source": [
    "class Marsupial:\n",
    "    item = []\n",
    "    def __init__(self):\n",
    "        self.item = []\n",
    "    def put_in_pouch(self,name):\n",
    "        self.item.append(name)   \n",
    "    def pouch_contents(self):\n",
    "        print(self.item)"
   ]
  },
  {
   "cell_type": "code",
   "execution_count": 4,
   "id": "32c6236d",
   "metadata": {},
   "outputs": [
    {
     "name": "stdout",
     "output_type": "stream",
     "text": [
      "['doll', 'firetruck', 'kitten']\n"
     ]
    }
   ],
   "source": [
    "m = Marsupial()\n",
    "m.put_in_pouch(\"doll\")\n",
    "m.put_in_pouch(\"firetruck\")\n",
    "m.put_in_pouch(\"kitten\")\n",
    "m.pouch_contents()"
   ]
  },
  {
   "cell_type": "code",
   "execution_count": 5,
   "id": "cc7972e1",
   "metadata": {},
   "outputs": [],
   "source": [
    "class Kangaroo(Marsupial):\n",
    "    def __init__(self,x,y):\n",
    "        self.x = x\n",
    "        self.y = y\n",
    "        Marsupial.__init__(self)\n",
    "        print(\"I am a Kangaroo located at coordinates ({}, {})\" .format(x,y))\n",
    "        \n",
    "    def jump(self,dx,dy):\n",
    "        self.x += dx\n",
    "        self.y += dy\n",
    "        \n",
    "    def __add__(self, point):\n",
    "        return Point(self.x+point.dx, self.y+point.dy)\n",
    "    \n",
    "    def __str__(self):\n",
    "        return 'I am a Kangaroo located at coordinates ({}, {})'.format(self.x, self.y)"
   ]
  },
  {
   "cell_type": "code",
   "execution_count": 6,
   "id": "b2c79183",
   "metadata": {},
   "outputs": [
    {
     "name": "stdout",
     "output_type": "stream",
     "text": [
      "I am a Kangaroo located at coordinates (0, 0)\n",
      "['doll', 'firetruck', 'kitten']\n",
      "I am a Kangaroo located at coordinates (3, 0)\n"
     ]
    }
   ],
   "source": [
    "k = Kangaroo(0,0)\n",
    "k.put_in_pouch(\"doll\")\n",
    "k.put_in_pouch(\"firetruck\")\n",
    "k.put_in_pouch(\"kitten\")\n",
    "k.pouch_contents()\n",
    "k.jump(1,0)\n",
    "k.jump(1,0)\n",
    "k.jump(1,0)\n",
    "print(k)"
   ]
  },
  {
   "cell_type": "markdown",
   "id": "25017f0e",
   "metadata": {},
   "source": [
    "# Question 4\n",
    "```\n",
    "Write function collatz() that takes a positive integer x as input and prints the \n",
    "Collatz sequence starting at x. A Collatz sequence is obtained by repeatedly applying \n",
    "this rule to the previous number x in the sequence:\n",
    "x = {\n",
    "𝑥/2 𝑖𝑓 𝑥 𝑖𝑠 𝑒𝑣𝑒𝑛3𝑥\n",
    "+1 𝑖𝑓 𝑥 𝑖𝑠 𝑜𝑑𝑑\n",
    "Your function should stop when the sequence gets to number 1. Your \n",
    "implementation must be recursive, without any loops\n",
    "```"
   ]
  },
  {
   "cell_type": "code",
   "execution_count": 38,
   "id": "1cd5469d",
   "metadata": {},
   "outputs": [],
   "source": [
    "def collatz(x):\n",
    "    print(x)\n",
    "    if x == 1:\n",
    "        return \n",
    "    elif (x % 2 == 0):\n",
    "        new_x = x // 2\n",
    "    else:\n",
    "        new_x = 3*x + 1\n",
    "    #print(new_x)\n",
    "    collatz(new_x)"
   ]
  },
  {
   "cell_type": "code",
   "execution_count": 39,
   "id": "66c05040",
   "metadata": {},
   "outputs": [
    {
     "name": "stdout",
     "output_type": "stream",
     "text": [
      "10\n",
      "5\n",
      "16\n",
      "8\n",
      "4\n",
      "2\n",
      "1\n"
     ]
    }
   ],
   "source": [
    "collatz(10)"
   ]
  },
  {
   "cell_type": "code",
   "execution_count": 40,
   "id": "fe418a6e",
   "metadata": {},
   "outputs": [
    {
     "name": "stdout",
     "output_type": "stream",
     "text": [
      "1\n"
     ]
    }
   ],
   "source": [
    "collatz(1)"
   ]
  },
  {
   "cell_type": "markdown",
   "id": "70f508fa",
   "metadata": {},
   "source": [
    "# Question 5\n",
    "```\n",
    "Write a recursive method binary() that takes a non-negative \n",
    "integer n and prints the binary representation of integer n.\n",
    ">>> binary(0)\n",
    "0\n",
    ">>> binary(1)\n",
    "1\n",
    ">>> binary(3) \n",
    "11\n",
    ">>> binary(9) \n",
    "1001\n",
    "```"
   ]
  },
  {
   "cell_type": "code",
   "execution_count": 22,
   "id": "23fe5cbe",
   "metadata": {},
   "outputs": [],
   "source": [
    "def binary(number):\n",
    "    if number>=1:\n",
    "        binary(number//2)\n",
    "        print(number%2, end = '')"
   ]
  },
  {
   "cell_type": "code",
   "execution_count": 23,
   "id": "ca5fb612",
   "metadata": {},
   "outputs": [
    {
     "name": "stdout",
     "output_type": "stream",
     "text": [
      "11"
     ]
    }
   ],
   "source": [
    "binary(3)"
   ]
  },
  {
   "cell_type": "code",
   "execution_count": 24,
   "id": "ed80d6e4",
   "metadata": {},
   "outputs": [
    {
     "name": "stdout",
     "output_type": "stream",
     "text": [
      "1001"
     ]
    }
   ],
   "source": [
    "binary(9)"
   ]
  },
  {
   "cell_type": "markdown",
   "id": "26675c95",
   "metadata": {},
   "source": [
    "# Question 6:\n",
    "```\n",
    "Implement a class named HeadingParser that can be used to parse an HTML document, and retrieve and print all the headings in the document. You should implement your class as a subclass of HTMLParser, defined in Standard Library module html.parser. When fed a string containing HTML code, your class should print the headings, one per line and in the order in which they appear in the document.Each heading should be indented asfollows: an h1 heading should have indentation 0, and h2 heading should have indentation 1, etc. Test your implementation using w3c.html.\n",
    "```"
   ]
  },
  {
   "cell_type": "code",
   "execution_count": 35,
   "id": "808a7338",
   "metadata": {
    "scrolled": true
   },
   "outputs": [
    {
     "name": "stdout",
     "output_type": "stream",
     "text": [
      "W3C Mission\n",
      "\n",
      "\t\n",
      " Principles\n",
      " \n",
      " \n",
      "\n",
      "\n",
      "\n",
      " \n",
      "\n"
     ]
    }
   ],
   "source": [
    "infile = open('C:/Users/garim/OneDrive/Desktop/DataProg/Problem Set 2/w3c.txt') \n",
    "content = infile.read() \n",
    "infile.close() \n",
    "from html.parser import HTMLParser \n",
    "class HeadingParser(HTMLParser):\n",
    "    \n",
    "    headers = ['h1', 'h2', 'h3', 'h4', 'h5', 'h6']\n",
    "    headervalue = '1'\n",
    "\n",
    "    def handle_starttag(self, tag, attrs):\n",
    "        if tag in self.headers:\n",
    "            self.headervalue = tag\n",
    "            #print(self.headervalue)\n",
    "        else:\n",
    "            self.headervalue = ''\n",
    "                    \n",
    "    def handle_data(self,data):\n",
    "        if self.headervalue == 'h1':\n",
    "            print(data)\n",
    "        elif self.headervalue == 'h2':\n",
    "            print (' ' + data)\n",
    "        elif self.headervalue == 'h3':\n",
    "            print ('  ' + data)\n",
    "        elif self.headervalue == 'h4':\n",
    "            print ('   ' + data)\n",
    "        elif self.headervalue == 'h5':\n",
    "            print ('    ' + data)\n",
    "        elif self.headervalue == 'h6':\n",
    "            print ('     ' + data)\n",
    "        \n",
    "\n",
    "infile = open('C:/Users/garim/OneDrive/Desktop/DataProg/Problem Set 2/w3c.txt')\n",
    "content = infile.read()\n",
    "infile.close()\n",
    "hp = HeadingParser()\n",
    "hp.feed(content) \n"
   ]
  },
  {
   "cell_type": "markdown",
   "id": "e18bfd24",
   "metadata": {},
   "source": [
    "# Question 7\n",
    "```\n",
    "Implement recursive function webdir() that takes as input: a URL (as a string) and non-negative integers depth and indent. Your function should visit every web page reachable from the starting URL web page in depth clicks or less, and print \n",
    "each web page's URL. As shown below, indentation, specified by indent, should be used to indicate the depth of a URL.\n",
    "```"
   ]
  },
  {
   "cell_type": "code",
   "execution_count": 67,
   "id": "4d0ed03b",
   "metadata": {},
   "outputs": [],
   "source": [
    "from urllib.parse import urljoin\n",
    "from urllib.request import urlopen\n",
    "from html.parser import HTMLParser\n",
    "class Collector(HTMLParser):\n",
    "    #'collects hyperlink URLs into a list\n",
    "\n",
    "    def __init__(self, url):\n",
    "        #'initializes parser, the url, and a list\n",
    "        HTMLParser.__init__(self)\n",
    "        self.url = url\n",
    "        self.links = []\n",
    "\n",
    "    \n",
    "    def handle_starttag(self, tag, attrs):\n",
    "       # 'collects hyperlink URLs in their absolute format\n",
    "        if tag == 'a':\n",
    "            for attr in attrs:\n",
    "                if attr[0] == 'href':\n",
    "                    # construct absolute URL\n",
    "                    absolute = urljoin(self.url, attr[1])\n",
    "                    if absolute[:4] == 'http': # collect HTTP URLs\n",
    "                        self.links.append(absolute)\n",
    "                        \n",
    "    def getLinks(self):\n",
    "        #'returns hyperlinks URLs in their absolute format\n",
    "        return self.links\n",
    "    \n",
    "def webdir(url, depth, indent):\n",
    "    print(' ' * indent + url)\n",
    "    if depth>=0:\n",
    "        try:\n",
    "            resource = urlopen(url)\n",
    "            content = resource.read().decode()\n",
    "            collector = Collector(url)\n",
    "            collector.feed(content)\n",
    "            linklist = collector.getLinks()\n",
    "\n",
    "            for link in linklist:\n",
    "                #print(' ' * indent + link)\n",
    "                webdir(link, depth-1, indent+1)\n",
    "                \n",
    "        except UnicodeDecodeError:\n",
    "             print(\"An error occured\")\n",
    "            \n",
    "        else:\n",
    "                print(\"Depth can't be negative\")\n",
    "\n"
   ]
  },
  {
   "cell_type": "code",
   "execution_count": 68,
   "id": "863b1d5b",
   "metadata": {},
   "outputs": [
    {
     "name": "stdout",
     "output_type": "stream",
     "text": [
      "http://reed.cs.depaul.edu/lperkovic/csc242/lecture2/\n",
      " http://reed.cs.depaul.edu/lperkovic/csc242/lecture2/Ch8.pptx\n",
      "An error occured\n",
      " http://reed.cs.depaul.edu/lperkovic/csc242/lecture2/ch8.py\n",
      "Depth can't be negative\n",
      " http://reed.cs.depaul.edu/lperkovic/csc242/lecture2/cards.py\n",
      "Depth can't be negative\n",
      " http://reed.cs.depaul.edu/lperkovic/csc242/lecture2/raven.txt\n",
      "Depth can't be negative\n",
      "Depth can't be negative\n"
     ]
    }
   ],
   "source": [
    "webdir('http://reed.cs.depaul.edu/lperkovic/csc242/lecture2/', 2, 0)\n"
   ]
  },
  {
   "cell_type": "markdown",
   "id": "df86be44",
   "metadata": {},
   "source": [
    "# Question 8\n",
    "```\n",
    "Write SQL queries on the below database table that return:\n",
    "a) All the temperature data.\n",
    "b) All the cities, but without repetition.\n",
    "c) All the records for India.\n",
    "d) All the Fall records.\n",
    "e) The city, country, and season for which the average rainfall is between 200 \n",
    "and 400 millimeters.\n",
    "f) The city and country for which the average Fall temperature is above 20 \n",
    "degrees, in increasing temperature order.\n",
    "g) The total annual rainfall for Cairo.\n",
    "h) The total rainfall for each season.\n",
    "```"
   ]
  },
  {
   "cell_type": "code",
   "execution_count": 74,
   "id": "3216e983",
   "metadata": {},
   "outputs": [
    {
     "name": "stdout",
     "output_type": "stream",
     "text": [
      "All the temperature data\n",
      "(24.8,)\n",
      "(28.4,)\n",
      "(27.9,)\n",
      "(27.6,)\n",
      "(4.2,)\n",
      "(8.3,)\n",
      "(15.7,)\n",
      "(10.4,)\n",
      "(13.6,)\n",
      "(20.7,)\n",
      "(27.7,)\n",
      "(22.2,)\n",
      "\n",
      "\n",
      " All the cities, but without repetition\n",
      "('Mumbai',)\n",
      "('London',)\n",
      "('Cairo',)\n",
      "\n",
      "\n",
      " All the records for India\n",
      "('Mumbai', 'India', 'Winter', 24.8, 5.9)\n",
      "('Mumbai', 'India', 'Spring', 28.4, 16.2)\n",
      "('Mumbai', 'India', 'Summer', 27.9, 1549.4)\n",
      "('Mumbai', 'India', 'Fall', 27.6, 346.0)\n",
      "\n",
      "\n",
      " All the Fall records\n",
      "('Mumbai', 'India', 'Fall', 27.6, 346.0)\n",
      "('London', 'United Kingdom', 'Fall', 10.4, 218.5)\n",
      "('Cairo', 'Egypt', 'Fall', 22.2, 4.5)\n",
      "\n",
      "\n",
      "The city, country, and season for which the average rainfall is between 200 and 400 millimeters\n",
      "('Mumbai', 'India', 'Fall')\n",
      "('London', 'United Kingdom', 'Winter')\n",
      "('London', 'United Kingdom', 'Fall')\n",
      "\n",
      "\n",
      "The city and country for which the average Fall temperature is above 20 degrees, in increasing temperature order\n",
      "('Cairo', 'Egypt')\n",
      "('Mumbai', 'India')\n",
      "\n",
      "\n",
      "The total annual rainfall for Cairo\n",
      "(27.6,)\n",
      "\n",
      "\n",
      "The total rainfall for each season\n",
      "(569.0, 'Fall')\n",
      "(192.29999999999998, 'Spring')\n",
      "(1706.5, 'Summer')\n",
      "(230.1, 'Winter')\n"
     ]
    }
   ],
   "source": [
    "import sqlite3\n",
    "con = sqlite3.connect('dbtempyPS2.db')\n",
    "cur = con.cursor()\n",
    "cur.execute(\"DROP TABLE IF EXISTS World\")\n",
    "cur.execute(\"CREATE TABLE World (City,Country,Season,Temperature,Rainfall)\")\n",
    "cur.execute(\"INSERT INTO World VALUES('Mumbai','India','Winter',24.8,5.9)\")\n",
    "cur.execute(\"INSERT INTO World VALUES('Mumbai','India','Spring',28.4,16.2)\")\n",
    "cur.execute(\"INSERT INTO World VALUES('Mumbai','India','Summer',27.9,1549.4)\")\n",
    "cur.execute(\"INSERT INTO World VALUES('Mumbai','India','Fall',27.6,346.0)\")\n",
    "cur.execute(\"INSERT INTO World VALUES('London','United Kingdom','Winter',4.2,207.7)\")\n",
    "cur.execute(\"INSERT INTO World VALUES('London','United Kingdom','Spring',8.3 ,169.6)\")\n",
    "cur.execute(\"INSERT INTO World VALUES('London','United Kingdom','Summer',15.7,157.0)\")\n",
    "cur.execute(\"INSERT INTO World VALUES('London','United Kingdom','Fall',10.4,218.5)\")\n",
    "cur.execute(\"INSERT INTO World VALUES('Cairo','Egypt','Winter',13.6,16.5)\")\n",
    "cur.execute(\"INSERT INTO World VALUES('Cairo','Egypt','Spring',20.7,6.5)\")\n",
    "cur.execute(\"INSERT INTO World VALUES('Cairo','Egypt','Summer',27.7,0.1 )\")\n",
    "cur.execute(\"INSERT INTO World VALUES('Cairo','Egypt','Fall',22.2,4.5)\")\n",
    "temperature = cur.execute(\"SELECT Temperature from World\")\n",
    "print(\"All the temperature data\")\n",
    "for temp in temperature:\n",
    "    print(temp)\n",
    "print('\\n')    \n",
    "print(\" All the cities, but without repetition\")\n",
    "cities = cur.execute(\"SELECT Distinct(City) from World\")\n",
    "for city in cities:\n",
    "    print(city)\n",
    "print('\\n')\n",
    "print(\" All the records for India\")\n",
    "IndiaData = cur.execute(\"SELECT * from World WHERE Country = 'India' \")\n",
    "for data in IndiaData:\n",
    "    print(data)\n",
    "print('\\n')\n",
    "print(\" All the Fall records\")\n",
    "FallRecords = cur.execute(\"SELECT * from World WHERE Season = 'Fall' \")\n",
    "for records in FallRecords:\n",
    "    print(records)\n",
    "print('\\n')\n",
    "print(\"The city, country, and season for which the average rainfall is between 200 and 400 millimeters\")\n",
    "Rainfall = cur.execute(\"SELECT City,Country,Season from World WHERE rainfall > 200 and rainfall <400 \")\n",
    "for Raindata in Rainfall:\n",
    "    print(Raindata)\n",
    "print('\\n')\n",
    "print(\"The city and country for which the average Fall temperature is above 20 degrees, in increasing temperature order\")\n",
    "FallTemp = cur.execute(\"SELECT City, Country from World where Season = 'Fall' and Temperature > 20 ORDER BY Temperature ASC\")\n",
    "for temp in FallTemp:\n",
    "    print(temp)\n",
    "print('\\n')\n",
    "print(\"The total annual rainfall for Cairo\")\n",
    "AnnualRainfall = cur.execute(\"SELECT SUM(Rainfall) from World where City = 'Cairo'\")\n",
    "for AnnualRain in AnnualRainfall:\n",
    "    print(AnnualRain)\n",
    "print('\\n')\n",
    "print(\"The total rainfall for each season\")\n",
    "TotalRainfall = cur.execute(\"SELECT SUM(Rainfall), Season from World GROUP BY Season\")\n",
    "for RainData in TotalRainfall:\n",
    "    print(RainData)\n",
    "con.commit()\n",
    "con.close()"
   ]
  },
  {
   "cell_type": "markdown",
   "id": "8aa6dd12",
   "metadata": {},
   "source": [
    "# Question 9\n",
    "```\n",
    "Suppose list words is defined as follows:\n",
    ">>> words = ['The', 'quick', 'brown', 'fox', 'jumps', 'over', \n",
    "'the', 'lazy', 'dog']\n",
    "Write list comprehension expressions that use list words and generate the following \n",
    "lists:\n",
    "a) ['THE', 'QUICK', 'BROWN', 'FOX', 'JUMPS', 'OVER', 'THE', \n",
    "'LAZY', 'DOG']\n",
    "b) ['the', 'quick', 'brown', 'fox', 'jumps', 'over', 'the', \n",
    "'lazy', 'dog']\n",
    "c) [3, 5, 5, 3, 5, 4, 3, 4, 3] (the list of lengths of words in list\n",
    "words).\n",
    "d) [['THE', 'the', 3], ['QUICK', 'quick', 5], ['BROWN',\n",
    "'brown', 5], ['FOX', 'fox', 3], ['JUMPS', 'jumps', 5],\n",
    "['OVER', 'over', 4], ['THE', 'the', 3], ['LAZY', 'lazy',\n",
    "4], ['DOG', 'dog', 3]] (the list containing a list for every word of list \n",
    "words, where each list contains the word in uppercase and lowercase and the \n",
    "length of the word.)\n",
    "e) ['The', 'quick', 'brown', 'fox', 'jumps', 'over', 'the', \n",
    "'lazy', 'dog'] (the list of words in list words containing 4 or more \n",
    "characters.)\n",
    "\n",
    "```\n"
   ]
  },
  {
   "cell_type": "code",
   "execution_count": 73,
   "id": "c63396d8",
   "metadata": {},
   "outputs": [
    {
     "name": "stdout",
     "output_type": "stream",
     "text": [
      "['THE', 'QUICK', 'BROWN', 'FOX', 'JUMPS', 'OVER', 'THE', 'LAZY', 'DOG']\n",
      "\n",
      "\n",
      "['the', 'quick', 'brown', 'fox', 'jumps', 'over', 'the', 'lazy', 'dog']\n",
      "\n",
      "\n",
      "[3, 5, 5, 3, 5, 4, 3, 4, 3]\n",
      "\n",
      "\n",
      "[['THE', 'the', 3], ['QUICK', 'quick', 5], ['BROWN', 'brown', 5], ['FOX', 'fox', 3], ['JUMPS', 'jumps', 5], ['OVER', 'over', 4], ['THE', 'the', 3], ['LAZY', 'lazy', 4], ['DOG', 'dog', 3]]\n",
      "\n",
      "\n",
      "['quick', 'brown', 'jumps', 'over', 'lazy']\n"
     ]
    }
   ],
   "source": [
    "words = ['The', 'quick', 'brown', 'fox', 'jumps', 'over', 'the', 'lazy', 'dog']\n",
    "# Part a\n",
    "upperwords = [x.upper() for x in words]\n",
    "print(upperwords)\n",
    "\n",
    "#Part b\n",
    "lowerwords = [x.lower() for x in words]\n",
    "print('\\n')\n",
    "print(lowerwords)\n",
    "\n",
    "#Part c\n",
    "lenwords = [len(x) for x in words]\n",
    "print('\\n')\n",
    "print(lenwords)\n",
    "\n",
    "#Part d\n",
    "newwords = [[x.upper(), x.lower(), len(x)] for x in words]\n",
    "print('\\n')\n",
    "print(newwords)\n",
    "\n",
    "#Part e\n",
    "rangewords = [x for x in words if len(x) >= 4]\n",
    "print('\\n')\n",
    "print(rangewords)"
   ]
  },
  {
   "cell_type": "code",
   "execution_count": null,
   "id": "d7610f5c",
   "metadata": {},
   "outputs": [],
   "source": []
  }
 ],
 "metadata": {
  "kernelspec": {
   "display_name": "Python 3 (ipykernel)",
   "language": "python",
   "name": "python3"
  },
  "language_info": {
   "codemirror_mode": {
    "name": "ipython",
    "version": 3
   },
   "file_extension": ".py",
   "mimetype": "text/x-python",
   "name": "python",
   "nbconvert_exporter": "python",
   "pygments_lexer": "ipython3",
   "version": "3.9.12"
  }
 },
 "nbformat": 4,
 "nbformat_minor": 5
}
